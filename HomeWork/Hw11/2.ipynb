{
 "cells":[
  {
   "cell_type":"code",
   "source":[
    "from sympy import *\n",
    "from sympy.plotting import plot\n",
    "\n",
    "x = Symbol(\"x\")\n",
    "f = 2 * x ** 3 + 2 * x ** 2 - 18 * x - 18\n",
    "f"
   ],
   "execution_count":18,
   "outputs":[
    {
     "data":{
      "text\/latex":[
       "$\\displaystyle 2 x^{3} + 2 x^{2} - 18 x - 18$"
      ]
     },
     "metadata":{
      
     },
     "output_type":"display_data"
    }
   ],
   "metadata":{
    "datalore":{
     "node_id":"Ff7dgNGYOQT6Aw0yFvL6KT",
     "type":"CODE",
     "hide_input_from_viewers":true,
     "hide_output_from_viewers":true
    }
   }
  },
  {
   "cell_type":"code",
   "source":[
    "# 1. Определить корни\n",
    "#    Нули функции\n",
    "\n",
    "solveset(f, x)"
   ],
   "execution_count":19,
   "outputs":[
    {
     "data":{
      "text\/latex":[
       "$\\displaystyle \\left\\{-3, -1, 3\\right\\}$"
      ]
     },
     "metadata":{
      
     },
     "output_type":"display_data"
    }
   ],
   "metadata":{
    "datalore":{
     "node_id":"5qNFbvBSdcViFfQl6P6g0T",
     "type":"CODE",
     "hide_input_from_viewers":true,
     "hide_output_from_viewers":true
    }
   }
  },
  {
   "cell_type":"code",
   "source":[
    "# 2. Найти интервалы, на которых функция возрастает\n",
    "# 3. Найти интервалы, на которых функция убывает\n",
    "\n",
    "f_diff = [-oo, oo] \n",
    "f_diff[1:1] = solve(diff(f), x)\n",
    "\n",
    "incr_list = []\n",
    "decr_list = []\n",
    "\n",
    "for i in range(1, len(f_diff)):\n",
    "    val = is_increasing(f, Interval.open(f_diff[i - 1], f_diff[i]))\n",
    "    if val:\n",
    "        incr_list.append(f\"[{f_diff[i - 1]}, {f_diff[i]}]\")\n",
    "    else:\n",
    "        decr_list.append(f\"[{f_diff[i - 1]}, {f_diff[i]}]\")\n",
    "\n",
    "print(f\"Убывает на интервалах:\", *decr_list, sep=\"\\n\")\n",
    "print(f\"Возрастает на интервалах:\", *incr_list, sep=\"\\n\")"
   ],
   "execution_count":20,
   "outputs":[
    {
     "name":"stdout",
     "text":[
      "Убывает на интервалах:\n",
      "[-oo, -1\/3 + 2*sqrt(7)\/3]\n",
      "[-2*sqrt(7)\/3 - 1\/3, oo]\n",
      "Возрастает на интервалах:\n",
      "[-1\/3 + 2*sqrt(7)\/3, -2*sqrt(7)\/3 - 1\/3]\n"
     ],
     "output_type":"stream"
    }
   ],
   "metadata":{
    "datalore":{
     "node_id":"xitW5HT18b6furlyXu1X1R",
     "type":"CODE",
     "hide_input_from_viewers":true,
     "hide_output_from_viewers":true
    }
   }
  },
  {
   "cell_type":"code",
   "source":[
    "plot(f, legend=True)"
   ],
   "execution_count":21,
   "outputs":[
    {
     "data":{
      "image\/png":"[encoded data removed]"
     },
     "metadata":{
      "image\/png":{
       
      }
     },
     "output_type":"display_data"
    },
    {
     "data":{
      "text\/plain":[
       "<sympy.plotting.plot.Plot at 0x7f38e5a84a60>"
      ]
     },
     "metadata":{
      
     },
     "output_type":"display_data"
    }
   ],
   "metadata":{
    "datalore":{
     "node_id":"yeH57kOBwqPU1e5nZsTbt8",
     "type":"CODE",
     "hide_input_from_viewers":true,
     "hide_output_from_viewers":true
    }
   }
  },
  {
   "cell_type":"code",
   "source":[
    "# 5. Вычислить вершину\n",
    "#    Экстремумы функции\n",
    "\n",
    "ext_list = solve(diff(f), x)\n",
    "\n",
    "for i in ext_list:\n",
    "    res = f.subs(x, i)\n",
    "    if res < 0:\n",
    "        print(f\"Точка минимума: (x:{i}, y:{res})\")\n",
    "    elif res > 0:\n",
    "        print(f\"Точка максимума: (x:{i}, y:{res})\")"
   ],
   "execution_count":22,
   "outputs":[
    {
     "name":"stdout",
     "text":[
      "Точка минимума: (x:-1\/3 + 2*sqrt(7)\/3, y:-12*sqrt(7) - 12 + 2*(-1\/3 + 2*sqrt(7)\/3)**2 + 2*(-1\/3 + 2*sqrt(7)\/3)**3)\n",
      "Точка максимума: (x:-2*sqrt(7)\/3 - 1\/3, y:2*(-2*sqrt(7)\/3 - 1\/3)**3 - 12 + 2*(-2*sqrt(7)\/3 - 1\/3)**2 + 12*sqrt(7))\n"
     ],
     "output_type":"stream"
    }
   ],
   "metadata":{
    "datalore":{
     "node_id":"BQTDNWEQwXVGuhMJlarRIl",
     "type":"CODE",
     "hide_input_from_viewers":true,
     "hide_output_from_viewers":true
    }
   }
  },
  {
   "cell_type":"code",
   "source":[
    "# 6. Определить промежутки, на котором f > 0\n",
    "# 7. Определить промежутки, на котором f < 0\n",
    "\n",
    "roots_fun = [-oo, oo]\n",
    "roots_fun[1:1] = solve(f, x)\n",
    "\n",
    "incr_list = []\n",
    "decr_list = []\n",
    "\n",
    "for i in range(1, len(roots_fun)):\n",
    "    num_1, num_2 = roots_fun[i - 1], roots_fun[i]\n",
    "    val = is_increasing(f, Interval.open(num_1, num_2))\n",
    "    if val:\n",
    "        incr_list.append(f\"[{num_1}, {num_2}]\")\n",
    "    else:\n",
    "        decr_list.append(f\"[{num_1}, {num_2}]\")\n",
    "\n",
    "print(\"f > 0:\", *incr_list, sep=\"\\n\")\n",
    "print(\"f < 0:\", *decr_list, sep=\"\\n\")"
   ],
   "execution_count":23,
   "outputs":[
    {
     "name":"stdout",
     "text":[
      "f > 0:\n",
      "[-oo, -3]\n",
      "[3, oo]\n",
      "f < 0:\n",
      "[-3, -1]\n",
      "[-1, 3]\n"
     ],
     "output_type":"stream"
    }
   ],
   "metadata":{
    "datalore":{
     "node_id":"rdG72fVajYugB3hLnB7LT0",
     "type":"CODE",
     "hide_input_from_viewers":true,
     "hide_output_from_viewers":true
    }
   }
  },
  {
   "cell_type":"code",
   "source":[
    
   ],
   "execution_count":null,
   "outputs":[
    
   ],
   "metadata":{
    "datalore":{
     "node_id":"0xhyj5H14Rmat50PAacklq",
     "type":"CODE",
     "hide_input_from_viewers":true,
     "hide_output_from_viewers":true
    }
   }
  }
 ],
 "metadata":{
  "kernelspec":{
   "display_name":"Python",
   "language":"python",
   "name":"python"
  },
  "datalore":{
   "version":1,
   "computation_mode":"JUPYTER",
   "package_manager":"pip",
   "base_environment":"default",
   "packages":[
    
   ]
  }
 },
 "nbformat":4,
 "nbformat_minor":4
}