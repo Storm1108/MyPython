{
 "cells":[
  {
   "cell_type":"code",
   "source":[
    "from sympy import *\n",
    "from sympy.plotting import plot\n",
    "\n",
    "x = Symbol(\"x\")\n",
    "f = (x ** 2 + 3) \/ (3 * (x + 1))\n",
    "f"
   ],
   "execution_count":170,
   "outputs":[
    {
     "data":{
      "text\/latex":[
       "$\\displaystyle \\frac{x^{2} + 3}{3 x + 3}$"
      ]
     },
     "metadata":{
      
     },
     "output_type":"display_data"
    }
   ],
   "metadata":{
    "datalore":{
     "node_id":"Ff7dgNGYOQT6Aw0yFvL6KT",
     "type":"CODE",
     "hide_input_from_viewers":true,
     "hide_output_from_viewers":true
    }
   }
  },
  {
   "cell_type":"code",
   "source":[
    "# 1. Определить корни\n",
    "#    Нули функции\n",
    "\n",
    "solveset(f, x)"
   ],
   "execution_count":90,
   "outputs":[
    {
     "data":{
      "text\/latex":[
       "$\\displaystyle \\left\\{- \\sqrt{3} i, \\sqrt{3} i\\right\\}$"
      ]
     },
     "metadata":{
      
     },
     "output_type":"display_data"
    }
   ],
   "metadata":{
    "datalore":{
     "node_id":"5qNFbvBSdcViFfQl6P6g0T",
     "type":"CODE",
     "hide_input_from_viewers":true,
     "hide_output_from_viewers":true
    }
   }
  },
  {
   "cell_type":"code",
   "source":[
    "# 2. Найти интервалы, на которых функция возрастает\n",
    "# 3. Найти интервалы, на которых функция убывает\n",
    "\n",
    "f_diff = [-oo, oo] \n",
    "f_diff[1:1] = solve(diff(f), x)\n",
    "\n",
    "incr_list = []\n",
    "decr_list = []\n",
    "\n",
    "for i in range(1, len(f_diff)):\n",
    "    val = is_increasing(f, Interval.open(f_diff[i - 1], f_diff[i]))\n",
    "    if val:\n",
    "        incr_list.append(f\"[{f_diff[i - 1]}, {f_diff[i]}]\")\n",
    "    else:\n",
    "        decr_list.append(f\"[{f_diff[i - 1]}, {f_diff[i]}]\")\n",
    "\n",
    "print(f\"Убывает на интервалах:\", *decr_list, sep=\"\\n\")\n",
    "print(f\"Возрастает на интервалах:\", *incr_list, sep=\"\\n\")"
   ],
   "execution_count":26,
   "outputs":[
    {
     "name":"stdout",
     "text":[
      "Убывает на интервалах:\n",
      "[-3, 1]\n",
      "Возрастает на интервалах:\n",
      "[-oo, -3]\n",
      "[1, oo]\n"
     ],
     "output_type":"stream"
    }
   ],
   "metadata":{
    "datalore":{
     "node_id":"xitW5HT18b6furlyXu1X1R",
     "type":"CODE",
     "hide_input_from_viewers":true,
     "hide_output_from_viewers":true
    }
   }
  },
  {
   "cell_type":"code",
   "source":[
    "plot(f, legend=True, xlim=(-10, 6), ylim=(-10, 10))"
   ],
   "execution_count":171,
   "outputs":[
    {
     "data":{
      "image\/png":"[encoded data removed]"
     },
     "metadata":{
      "image\/png":{
       
      }
     },
     "output_type":"display_data"
    },
    {
     "data":{
      "text\/plain":[
       "<sympy.plotting.plot.Plot at 0x7f38e09626a0>"
      ]
     },
     "metadata":{
      
     },
     "output_type":"display_data"
    }
   ],
   "metadata":{
    "datalore":{
     "node_id":"yeH57kOBwqPU1e5nZsTbt8",
     "type":"CODE",
     "hide_input_from_viewers":true,
     "hide_output_from_viewers":true
    }
   }
  },
  {
   "cell_type":"code",
   "source":[
    "# 5. Вычислить вершину\n",
    "#    Экстремумы функции\n",
    "\n",
    "ext_list = solve(diff(f), x)\n",
    "\n",
    "for i in ext_list:\n",
    "    res = f.subs(x, i)\n",
    "    if res < 0:\n",
    "        print(f\"Точка минимума: (x:{i}, y:{res})\")\n",
    "    elif res > 0:\n",
    "        print(f\"Точка максимума: (x:{i}, y:{res})\")"
   ],
   "execution_count":28,
   "outputs":[
    {
     "name":"stdout",
     "text":[
      "Точка минимума: (x:-3, y:-2)\n",
      "Точка максимума: (x:1, y:2\/3)\n"
     ],
     "output_type":"stream"
    }
   ],
   "metadata":{
    "datalore":{
     "node_id":"BQTDNWEQwXVGuhMJlarRIl",
     "type":"CODE",
     "hide_input_from_viewers":true,
     "hide_output_from_viewers":true
    }
   }
  },
  {
   "cell_type":"code",
   "source":[
    "roots_fun = [-oo, oo]\n",
    "answ = solve(f, x)\n",
    "roots_fun[1:1] = answ\n",
    "incr_list = []\n",
    "decr_list = []\n",
    "\n",
    "for i in range(1, len(roots_fun)):\n",
    "    num_1, num_2 = roots_fun[i - 1], roots_fun[i]\n",
    "    if type(num_1) == Mul and type(num_2) == Mul:\n",
    "        continue\n",
    "    elif type(num_2) == Mul:\n",
    "        num_1 = roots_fun[i - 1]\n",
    "        num_2 = solve(f'({f})**(-1)')[0]\n",
    "        val = is_increasing(f, Interval(num_1, num_2))\n",
    "    elif type(num_1) == Mul:\n",
    "        num_2 = roots_fun[i]\n",
    "        num_1 = solve(f'({f})**(-1)')[0]\n",
    "        val = is_increasing(f, Interval(num_1, num_2))\n",
    "        print(val)\n",
    "    if val:\n",
    "        incr_list.append(f\"[{num_1}, {num_2}]\")\n",
    "    else:\n",
    "        decr_list.append(f\"[{num_1}, {num_2}]\")\n",
    "\n",
    "print(\"f > 0:\", *incr_list, sep=\"\\n\")\n",
    "print(\"f < 0:\", *decr_list, sep=\"\\n\")"
   ],
   "execution_count":174,
   "outputs":[
    {
     "name":"stdout",
     "text":[
      "None\n",
      "f > 0:\n",
      "f < 0:\n",
      "[-oo, -1]\n",
      "[-1, oo]\n"
     ],
     "output_type":"stream"
    }
   ],
   "metadata":{
    "datalore":{
     "node_id":"rdG72fVajYugB3hLnB7LT0",
     "type":"CODE",
     "hide_input_from_viewers":true,
     "hide_output_from_viewers":true
    }
   }
  }
 ],
 "metadata":{
  "kernelspec":{
   "display_name":"Python",
   "language":"python",
   "name":"python"
  },
  "datalore":{
   "version":1,
   "computation_mode":"JUPYTER",
   "package_manager":"pip",
   "base_environment":"default",
   "packages":[
    
   ]
  }
 },
 "nbformat":4,
 "nbformat_minor":4
}